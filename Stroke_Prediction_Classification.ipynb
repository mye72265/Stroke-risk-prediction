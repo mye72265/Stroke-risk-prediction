{
 "cells": [
  {
   "cell_type": "markdown",
   "id": "7e6ca404",
   "metadata": {},
   "source": [
    "### Import the libraries"
   ]
  },
  {
   "cell_type": "code",
   "execution_count": 1,
   "id": "288cfb38",
   "metadata": {},
   "outputs": [],
   "source": [
    "import numpy as np\n",
    "import pandas as pd\n",
    "import matplotlib.pyplot as plt\n",
    "import seaborn as sns\n",
    "from sklearn.compose import ColumnTransformer\n",
    "from sklearn.preprocessing import OneHotEncoder\n",
    "from sklearn.preprocessing import LabelEncoder\n",
    "from sklearn.preprocessing import StandardScaler\n",
    "from sklearn.model_selection import train_test_split\n",
    "from sklearn.metrics import roc_auc_score, roc_curve\n",
    "from sklearn.ensemble import RandomForestClassifier\n",
    "from sklearn.tree import DecisionTreeClassifier\n",
    "from sklearn.linear_model import LogisticRegression\n",
    "from xgboost import XGBClassifier\n",
    "from sklearn.model_selection import cross_val_predict"
   ]
  },
  {
   "cell_type": "code",
   "execution_count": 2,
   "id": "adf96983",
   "metadata": {},
   "outputs": [
    {
     "data": {
      "text/html": [
       "<div>\n",
       "<style scoped>\n",
       "    .dataframe tbody tr th:only-of-type {\n",
       "        vertical-align: middle;\n",
       "    }\n",
       "\n",
       "    .dataframe tbody tr th {\n",
       "        vertical-align: top;\n",
       "    }\n",
       "\n",
       "    .dataframe thead th {\n",
       "        text-align: right;\n",
       "    }\n",
       "</style>\n",
       "<table border=\"1\" class=\"dataframe\">\n",
       "  <thead>\n",
       "    <tr style=\"text-align: right;\">\n",
       "      <th></th>\n",
       "      <th>id</th>\n",
       "      <th>gender</th>\n",
       "      <th>age</th>\n",
       "      <th>hypertension</th>\n",
       "      <th>heart_disease</th>\n",
       "      <th>ever_married</th>\n",
       "      <th>work_type</th>\n",
       "      <th>Residence_type</th>\n",
       "      <th>avg_glucose_level</th>\n",
       "      <th>bmi</th>\n",
       "      <th>smoking_status</th>\n",
       "      <th>stroke</th>\n",
       "    </tr>\n",
       "  </thead>\n",
       "  <tbody>\n",
       "    <tr>\n",
       "      <th>0</th>\n",
       "      <td>9046</td>\n",
       "      <td>Male</td>\n",
       "      <td>67.0</td>\n",
       "      <td>0</td>\n",
       "      <td>1</td>\n",
       "      <td>Yes</td>\n",
       "      <td>Private</td>\n",
       "      <td>Urban</td>\n",
       "      <td>228.69</td>\n",
       "      <td>36.6</td>\n",
       "      <td>formerly smoked</td>\n",
       "      <td>1</td>\n",
       "    </tr>\n",
       "    <tr>\n",
       "      <th>1</th>\n",
       "      <td>51676</td>\n",
       "      <td>Female</td>\n",
       "      <td>61.0</td>\n",
       "      <td>0</td>\n",
       "      <td>0</td>\n",
       "      <td>Yes</td>\n",
       "      <td>Self-employed</td>\n",
       "      <td>Rural</td>\n",
       "      <td>202.21</td>\n",
       "      <td>NaN</td>\n",
       "      <td>never smoked</td>\n",
       "      <td>1</td>\n",
       "    </tr>\n",
       "    <tr>\n",
       "      <th>2</th>\n",
       "      <td>31112</td>\n",
       "      <td>Male</td>\n",
       "      <td>80.0</td>\n",
       "      <td>0</td>\n",
       "      <td>1</td>\n",
       "      <td>Yes</td>\n",
       "      <td>Private</td>\n",
       "      <td>Rural</td>\n",
       "      <td>105.92</td>\n",
       "      <td>32.5</td>\n",
       "      <td>never smoked</td>\n",
       "      <td>1</td>\n",
       "    </tr>\n",
       "    <tr>\n",
       "      <th>3</th>\n",
       "      <td>60182</td>\n",
       "      <td>Female</td>\n",
       "      <td>49.0</td>\n",
       "      <td>0</td>\n",
       "      <td>0</td>\n",
       "      <td>Yes</td>\n",
       "      <td>Private</td>\n",
       "      <td>Urban</td>\n",
       "      <td>171.23</td>\n",
       "      <td>34.4</td>\n",
       "      <td>smokes</td>\n",
       "      <td>1</td>\n",
       "    </tr>\n",
       "    <tr>\n",
       "      <th>4</th>\n",
       "      <td>1665</td>\n",
       "      <td>Female</td>\n",
       "      <td>79.0</td>\n",
       "      <td>1</td>\n",
       "      <td>0</td>\n",
       "      <td>Yes</td>\n",
       "      <td>Self-employed</td>\n",
       "      <td>Rural</td>\n",
       "      <td>174.12</td>\n",
       "      <td>24.0</td>\n",
       "      <td>never smoked</td>\n",
       "      <td>1</td>\n",
       "    </tr>\n",
       "  </tbody>\n",
       "</table>\n",
       "</div>"
      ],
      "text/plain": [
       "      id  gender   age  hypertension  heart_disease ever_married  \\\n",
       "0   9046    Male  67.0             0              1          Yes   \n",
       "1  51676  Female  61.0             0              0          Yes   \n",
       "2  31112    Male  80.0             0              1          Yes   \n",
       "3  60182  Female  49.0             0              0          Yes   \n",
       "4   1665  Female  79.0             1              0          Yes   \n",
       "\n",
       "       work_type Residence_type  avg_glucose_level   bmi   smoking_status  \\\n",
       "0        Private          Urban             228.69  36.6  formerly smoked   \n",
       "1  Self-employed          Rural             202.21   NaN     never smoked   \n",
       "2        Private          Rural             105.92  32.5     never smoked   \n",
       "3        Private          Urban             171.23  34.4           smokes   \n",
       "4  Self-employed          Rural             174.12  24.0     never smoked   \n",
       "\n",
       "   stroke  \n",
       "0       1  \n",
       "1       1  \n",
       "2       1  \n",
       "3       1  \n",
       "4       1  "
      ]
     },
     "execution_count": 2,
     "metadata": {},
     "output_type": "execute_result"
    }
   ],
   "source": [
    "df = pd.read_csv(\"D:\\healthcare-dataset-stroke-data.csv\")\n",
    "df.head()"
   ]
  },
  {
   "cell_type": "code",
   "execution_count": 3,
   "id": "789d0e67",
   "metadata": {},
   "outputs": [],
   "source": [
    "df.drop([\"id\"], axis = 1, inplace = True)\n",
    "df.drop([\"work_type\"], axis = 1, inplace = True)\n",
    "# Dropping these columns since they will not help us in determining the actual causations of the stroke risk."
   ]
  },
  {
   "cell_type": "markdown",
   "id": "8e3d0b9a",
   "metadata": {},
   "source": [
    "### Explore the Data"
   ]
  },
  {
   "cell_type": "code",
   "execution_count": 5,
   "id": "2a984378",
   "metadata": {},
   "outputs": [
    {
     "data": {
      "text/plain": [
       "0    4861\n",
       "1     249\n",
       "Name: stroke, dtype: int64"
      ]
     },
     "execution_count": 5,
     "metadata": {},
     "output_type": "execute_result"
    }
   ],
   "source": [
    "df['stroke'].value_counts()\n"
   ]
  },
  {
   "cell_type": "markdown",
   "id": "5985e62d",
   "metadata": {},
   "source": [
    "#### We see that this dataset is imbalanced. We will have to use strategies that work with these imbalanced datasets such as SMOTE Oversampling. "
   ]
  },
  {
   "cell_type": "code",
   "execution_count": 4,
   "id": "f83753c9",
   "metadata": {},
   "outputs": [
    {
     "data": {
      "text/plain": [
       "(5110, 10)"
      ]
     },
     "execution_count": 4,
     "metadata": {},
     "output_type": "execute_result"
    }
   ],
   "source": [
    "df.shape"
   ]
  },
  {
   "cell_type": "code",
   "execution_count": 6,
   "id": "e6fc3420",
   "metadata": {},
   "outputs": [
    {
     "data": {
      "text/html": [
       "<div>\n",
       "<style scoped>\n",
       "    .dataframe tbody tr th:only-of-type {\n",
       "        vertical-align: middle;\n",
       "    }\n",
       "\n",
       "    .dataframe tbody tr th {\n",
       "        vertical-align: top;\n",
       "    }\n",
       "\n",
       "    .dataframe thead th {\n",
       "        text-align: right;\n",
       "    }\n",
       "</style>\n",
       "<table border=\"1\" class=\"dataframe\">\n",
       "  <thead>\n",
       "    <tr style=\"text-align: right;\">\n",
       "      <th></th>\n",
       "      <th>age</th>\n",
       "      <th>hypertension</th>\n",
       "      <th>heart_disease</th>\n",
       "      <th>avg_glucose_level</th>\n",
       "      <th>bmi</th>\n",
       "      <th>stroke</th>\n",
       "    </tr>\n",
       "  </thead>\n",
       "  <tbody>\n",
       "    <tr>\n",
       "      <th>count</th>\n",
       "      <td>5110.000000</td>\n",
       "      <td>5110.000000</td>\n",
       "      <td>5110.000000</td>\n",
       "      <td>5110.000000</td>\n",
       "      <td>4909.000000</td>\n",
       "      <td>5110.000000</td>\n",
       "    </tr>\n",
       "    <tr>\n",
       "      <th>mean</th>\n",
       "      <td>43.226614</td>\n",
       "      <td>0.097456</td>\n",
       "      <td>0.054012</td>\n",
       "      <td>106.147677</td>\n",
       "      <td>28.893237</td>\n",
       "      <td>0.048728</td>\n",
       "    </tr>\n",
       "    <tr>\n",
       "      <th>std</th>\n",
       "      <td>22.612647</td>\n",
       "      <td>0.296607</td>\n",
       "      <td>0.226063</td>\n",
       "      <td>45.283560</td>\n",
       "      <td>7.854067</td>\n",
       "      <td>0.215320</td>\n",
       "    </tr>\n",
       "    <tr>\n",
       "      <th>min</th>\n",
       "      <td>0.080000</td>\n",
       "      <td>0.000000</td>\n",
       "      <td>0.000000</td>\n",
       "      <td>55.120000</td>\n",
       "      <td>10.300000</td>\n",
       "      <td>0.000000</td>\n",
       "    </tr>\n",
       "    <tr>\n",
       "      <th>25%</th>\n",
       "      <td>25.000000</td>\n",
       "      <td>0.000000</td>\n",
       "      <td>0.000000</td>\n",
       "      <td>77.245000</td>\n",
       "      <td>23.500000</td>\n",
       "      <td>0.000000</td>\n",
       "    </tr>\n",
       "    <tr>\n",
       "      <th>50%</th>\n",
       "      <td>45.000000</td>\n",
       "      <td>0.000000</td>\n",
       "      <td>0.000000</td>\n",
       "      <td>91.885000</td>\n",
       "      <td>28.100000</td>\n",
       "      <td>0.000000</td>\n",
       "    </tr>\n",
       "    <tr>\n",
       "      <th>75%</th>\n",
       "      <td>61.000000</td>\n",
       "      <td>0.000000</td>\n",
       "      <td>0.000000</td>\n",
       "      <td>114.090000</td>\n",
       "      <td>33.100000</td>\n",
       "      <td>0.000000</td>\n",
       "    </tr>\n",
       "    <tr>\n",
       "      <th>max</th>\n",
       "      <td>82.000000</td>\n",
       "      <td>1.000000</td>\n",
       "      <td>1.000000</td>\n",
       "      <td>271.740000</td>\n",
       "      <td>97.600000</td>\n",
       "      <td>1.000000</td>\n",
       "    </tr>\n",
       "  </tbody>\n",
       "</table>\n",
       "</div>"
      ],
      "text/plain": [
       "               age  hypertension  heart_disease  avg_glucose_level  \\\n",
       "count  5110.000000   5110.000000    5110.000000        5110.000000   \n",
       "mean     43.226614      0.097456       0.054012         106.147677   \n",
       "std      22.612647      0.296607       0.226063          45.283560   \n",
       "min       0.080000      0.000000       0.000000          55.120000   \n",
       "25%      25.000000      0.000000       0.000000          77.245000   \n",
       "50%      45.000000      0.000000       0.000000          91.885000   \n",
       "75%      61.000000      0.000000       0.000000         114.090000   \n",
       "max      82.000000      1.000000       1.000000         271.740000   \n",
       "\n",
       "               bmi       stroke  \n",
       "count  4909.000000  5110.000000  \n",
       "mean     28.893237     0.048728  \n",
       "std       7.854067     0.215320  \n",
       "min      10.300000     0.000000  \n",
       "25%      23.500000     0.000000  \n",
       "50%      28.100000     0.000000  \n",
       "75%      33.100000     0.000000  \n",
       "max      97.600000     1.000000  "
      ]
     },
     "execution_count": 6,
     "metadata": {},
     "output_type": "execute_result"
    }
   ],
   "source": [
    "df.describe()"
   ]
  },
  {
   "cell_type": "code",
   "execution_count": 7,
   "id": "82fb2e81",
   "metadata": {},
   "outputs": [
    {
     "data": {
      "text/plain": [
       "gender                object\n",
       "age                  float64\n",
       "hypertension           int64\n",
       "heart_disease          int64\n",
       "ever_married          object\n",
       "Residence_type        object\n",
       "avg_glucose_level    float64\n",
       "bmi                  float64\n",
       "smoking_status        object\n",
       "stroke                 int64\n",
       "dtype: object"
      ]
     },
     "execution_count": 7,
     "metadata": {},
     "output_type": "execute_result"
    }
   ],
   "source": [
    "df.dtypes"
   ]
  },
  {
   "cell_type": "code",
   "execution_count": 8,
   "id": "32f83609",
   "metadata": {},
   "outputs": [
    {
     "data": {
      "text/plain": [
       "gender                 0\n",
       "age                    0\n",
       "hypertension           0\n",
       "heart_disease          0\n",
       "ever_married           0\n",
       "Residence_type         0\n",
       "avg_glucose_level      0\n",
       "bmi                  201\n",
       "smoking_status         0\n",
       "stroke                 0\n",
       "dtype: int64"
      ]
     },
     "execution_count": 8,
     "metadata": {},
     "output_type": "execute_result"
    }
   ],
   "source": [
    "pd.isnull(df).sum() "
   ]
  },
  {
   "cell_type": "code",
   "execution_count": 9,
   "id": "9f07e568",
   "metadata": {},
   "outputs": [
    {
     "data": {
      "text/plain": [
       "gender               0\n",
       "age                  0\n",
       "hypertension         0\n",
       "heart_disease        0\n",
       "ever_married         0\n",
       "Residence_type       0\n",
       "avg_glucose_level    0\n",
       "bmi                  0\n",
       "smoking_status       0\n",
       "stroke               0\n",
       "dtype: int64"
      ]
     },
     "execution_count": 9,
     "metadata": {},
     "output_type": "execute_result"
    }
   ],
   "source": [
    "df = df.dropna()\n",
    "pd.isnull(df).sum() \n",
    "# We drop the null values"
   ]
  },
  {
   "cell_type": "markdown",
   "id": "b97b1c83",
   "metadata": {},
   "source": [
    "### We will implement graphs to further explore the data and its relationships"
   ]
  },
  {
   "cell_type": "code",
   "execution_count": 10,
   "id": "d85882d2",
   "metadata": {},
   "outputs": [
    {
     "data": {
      "image/png": "[encoded data removed]",
      "text/plain": [
       "<Figure size 432x288 with 2 Axes>"
      ]
     },
     "metadata": {
      "needs_background": "light"
     },
     "output_type": "display_data"
    }
   ],
   "source": [
    "# plotting correlation heatmap\n",
    "dataplot = sns.heatmap(df.corr(), cmap=\"YlGnBu\", annot=True)"
   ]
  },
  {
   "cell_type": "code",
   "execution_count": null,
   "id": "e378fc7f",
   "metadata": {},
   "outputs": [],
   "source": [
    "# There is a mild correlation between BMI and age."
   ]
  },
  {
   "cell_type": "code",
   "execution_count": 11,
   "id": "75648ef1",
   "metadata": {},
   "outputs": [
    {
     "data": {
      "text/plain": [
       "Text(0.5, 1.0, 'Age vs Bmi')"
      ]
     },
     "execution_count": 11,
     "metadata": {},
     "output_type": "execute_result"
    },
    {
     "data": {
      "image/png": "[encoded data removed]",
      "text/plain": [
       "<Figure size 432x288 with 1 Axes>"
      ]
     },
     "metadata": {
      "needs_background": "light"
     },
     "output_type": "display_data"
    }
   ],
   "source": [
    "# Scatter plot\n",
    "plt.scatter(df['age'], df['bmi'])\n",
    "plt.xlabel('age')              # label = name of label\n",
    "plt.ylabel('bmi')\n",
    "plt.title('Age vs Bmi') "
   ]
  },
  {
   "cell_type": "code",
   "execution_count": null,
   "id": "28b57d39",
   "metadata": {},
   "outputs": [],
   "source": [
    "# appears to be weak association between age and BMI. This was also seen in the heatmap."
   ]
  },
  {
   "cell_type": "code",
   "execution_count": 12,
   "id": "95eabd7d",
   "metadata": {},
   "outputs": [
    {
     "data": {
      "text/plain": [
       "Text(0.5, 1.0, 'Age vs Stroke')"
      ]
     },
     "execution_count": 12,
     "metadata": {},
     "output_type": "execute_result"
    },
    {
     "data": {
      "image/png": "[encoded data removed]",
      "text/plain": [
       "<Figure size 432x288 with 1 Axes>"
      ]
     },
     "metadata": {
      "needs_background": "light"
     },
     "output_type": "display_data"
    }
   ],
   "source": [
    "# Boxplot\n",
    "plt.boxplot([df[df['stroke']==1]['age'], df[df['stroke']!=1]['age']], labels = [\"stroke\", \"No stroke\"])\n",
    "plt.ylabel('Age')\n",
    "plt.title('Age vs Stroke')"
   ]
  },
  {
   "cell_type": "markdown",
   "id": "61ec55f3",
   "metadata": {},
   "source": [
    "### CVA risk, aka Stroke risk is higher in the elderly population (60 and over) compared to the adults in the 30-60 years old range. "
   ]
  },
  {
   "cell_type": "code",
   "execution_count": 13,
   "id": "70a48829",
   "metadata": {},
   "outputs": [
    {
     "data": {
      "text/plain": [
       "Text(0.5, 1.0, 'gluc. level vs Stroke')"
      ]
     },
     "execution_count": 13,
     "metadata": {},
     "output_type": "execute_result"
    },
    {
     "data": {
      "image/png": "[encoded data removed]",
      "text/plain": [
       "<Figure size 432x288 with 1 Axes>"
      ]
     },
     "metadata": {
      "needs_background": "light"
     },
     "output_type": "display_data"
    }
   ],
   "source": [
    "plt.boxplot([df[df['stroke']==1]['avg_glucose_level'], df[df['stroke']!=1]['avg_glucose_level']], labels = [\"Stroke\", \"No Stroke\"])\n",
    "plt.ylabel('avg_glucose_level')\n",
    "plt.title('gluc. level vs Stroke')"
   ]
  },
  {
   "cell_type": "code",
   "execution_count": 14,
   "id": "0d811492",
   "metadata": {},
   "outputs": [],
   "source": [
    "# There is a higher risk of stroke with increased average glucose levels in the bloodstream. This is expected. \n",
    "# There are alot of outliers in the \"No Sroke\" boxplot."
   ]
  },
  {
   "cell_type": "code",
   "execution_count": 15,
   "id": "81c6820c",
   "metadata": {},
   "outputs": [
    {
     "name": "stdout",
     "output_type": "stream",
     "text": [
      "0.08\n",
      "82.0\n"
     ]
    }
   ],
   "source": [
    "print(df.age.min())\n",
    "print(df.age.max())"
   ]
  },
  {
   "cell_type": "code",
   "execution_count": 16,
   "id": "45765f98",
   "metadata": {},
   "outputs": [
    {
     "data": {
      "text/plain": [
       "<AxesSubplot:ylabel='Frequency'>"
      ]
     },
     "execution_count": 16,
     "metadata": {},
     "output_type": "execute_result"
    },
    {
     "data": {
      "image/png": "[encoded data removed]",
      "text/plain": [
       "<Figure size 864x864 with 1 Axes>"
      ]
     },
     "metadata": {
      "needs_background": "light"
     },
     "output_type": "display_data"
    }
   ],
   "source": [
    "# Age Histogram\n",
    "df.age.plot(kind = 'hist',bins = 82,figsize = (12,12))\n"
   ]
  },
  {
   "cell_type": "code",
   "execution_count": 17,
   "id": "9337de2c",
   "metadata": {},
   "outputs": [
    {
     "name": "stdout",
     "output_type": "stream",
     "text": [
      "['Male' 'Female' 'Other']\n",
      "['Yes' 'No']\n",
      "['formerly smoked' 'never smoked' 'smokes' 'Unknown']\n",
      "['Urban' 'Rural']\n"
     ]
    }
   ],
   "source": [
    "print(df.gender.unique())\n",
    "print(df.ever_married.unique())\n",
    "print(df.smoking_status.unique())\n",
    "print(df.Residence_type.unique())"
   ]
  },
  {
   "cell_type": "markdown",
   "id": "cf7c3b0b",
   "metadata": {},
   "source": [
    "### Encode Columns"
   ]
  },
  {
   "cell_type": "code",
   "execution_count": 18,
   "id": "14380700",
   "metadata": {},
   "outputs": [],
   "source": [
    "categorical_cols = ['gender', 'ever_married', \"smoking_status\", \"Residence_type\"] \n",
    "\n",
    "df = pd.get_dummies(df, columns = categorical_cols)"
   ]
  },
  {
   "cell_type": "code",
   "execution_count": 19,
   "id": "a2ca59ce",
   "metadata": {},
   "outputs": [
    {
     "data": {
      "text/html": [
       "<div>\n",
       "<style scoped>\n",
       "    .dataframe tbody tr th:only-of-type {\n",
       "        vertical-align: middle;\n",
       "    }\n",
       "\n",
       "    .dataframe tbody tr th {\n",
       "        vertical-align: top;\n",
       "    }\n",
       "\n",
       "    .dataframe thead th {\n",
       "        text-align: right;\n",
       "    }\n",
       "</style>\n",
       "<table border=\"1\" class=\"dataframe\">\n",
       "  <thead>\n",
       "    <tr style=\"text-align: right;\">\n",
       "      <th></th>\n",
       "      <th>age</th>\n",
       "      <th>hypertension</th>\n",
       "      <th>heart_disease</th>\n",
       "      <th>avg_glucose_level</th>\n",
       "      <th>bmi</th>\n",
       "      <th>stroke</th>\n",
       "      <th>gender_Female</th>\n",
       "      <th>gender_Male</th>\n",
       "      <th>gender_Other</th>\n",
       "      <th>ever_married_No</th>\n",
       "      <th>ever_married_Yes</th>\n",
       "      <th>smoking_status_Unknown</th>\n",
       "      <th>smoking_status_formerly smoked</th>\n",
       "      <th>smoking_status_never smoked</th>\n",
       "      <th>smoking_status_smokes</th>\n",
       "      <th>Residence_type_Rural</th>\n",
       "      <th>Residence_type_Urban</th>\n",
       "    </tr>\n",
       "  </thead>\n",
       "  <tbody>\n",
       "    <tr>\n",
       "      <th>0</th>\n",
       "      <td>67.0</td>\n",
       "      <td>0</td>\n",
       "      <td>1</td>\n",
       "      <td>228.69</td>\n",
       "      <td>36.6</td>\n",
       "      <td>1</td>\n",
       "      <td>0</td>\n",
       "      <td>1</td>\n",
       "      <td>0</td>\n",
       "      <td>0</td>\n",
       "      <td>1</td>\n",
       "      <td>0</td>\n",
       "      <td>1</td>\n",
       "      <td>0</td>\n",
       "      <td>0</td>\n",
       "      <td>0</td>\n",
       "      <td>1</td>\n",
       "    </tr>\n",
       "    <tr>\n",
       "      <th>2</th>\n",
       "      <td>80.0</td>\n",
       "      <td>0</td>\n",
       "      <td>1</td>\n",
       "      <td>105.92</td>\n",
       "      <td>32.5</td>\n",
       "      <td>1</td>\n",
       "      <td>0</td>\n",
       "      <td>1</td>\n",
       "      <td>0</td>\n",
       "      <td>0</td>\n",
       "      <td>1</td>\n",
       "      <td>0</td>\n",
       "      <td>0</td>\n",
       "      <td>1</td>\n",
       "      <td>0</td>\n",
       "      <td>1</td>\n",
       "      <td>0</td>\n",
       "    </tr>\n",
       "    <tr>\n",
       "      <th>3</th>\n",
       "      <td>49.0</td>\n",
       "      <td>0</td>\n",
       "      <td>0</td>\n",
       "      <td>171.23</td>\n",
       "      <td>34.4</td>\n",
       "      <td>1</td>\n",
       "      <td>1</td>\n",
       "      <td>0</td>\n",
       "      <td>0</td>\n",
       "      <td>0</td>\n",
       "      <td>1</td>\n",
       "      <td>0</td>\n",
       "      <td>0</td>\n",
       "      <td>0</td>\n",
       "      <td>1</td>\n",
       "      <td>0</td>\n",
       "      <td>1</td>\n",
       "    </tr>\n",
       "    <tr>\n",
       "      <th>4</th>\n",
       "      <td>79.0</td>\n",
       "      <td>1</td>\n",
       "      <td>0</td>\n",
       "      <td>174.12</td>\n",
       "      <td>24.0</td>\n",
       "      <td>1</td>\n",
       "      <td>1</td>\n",
       "      <td>0</td>\n",
       "      <td>0</td>\n",
       "      <td>0</td>\n",
       "      <td>1</td>\n",
       "      <td>0</td>\n",
       "      <td>0</td>\n",
       "      <td>1</td>\n",
       "      <td>0</td>\n",
       "      <td>1</td>\n",
       "      <td>0</td>\n",
       "    </tr>\n",
       "    <tr>\n",
       "      <th>5</th>\n",
       "      <td>81.0</td>\n",
       "      <td>0</td>\n",
       "      <td>0</td>\n",
       "      <td>186.21</td>\n",
       "      <td>29.0</td>\n",
       "      <td>1</td>\n",
       "      <td>0</td>\n",
       "      <td>1</td>\n",
       "      <td>0</td>\n",
       "      <td>0</td>\n",
       "      <td>1</td>\n",
       "      <td>0</td>\n",
       "      <td>1</td>\n",
       "      <td>0</td>\n",
       "      <td>0</td>\n",
       "      <td>0</td>\n",
       "      <td>1</td>\n",
       "    </tr>\n",
       "  </tbody>\n",
       "</table>\n",
       "</div>"
      ],
      "text/plain": [
       "    age  hypertension  heart_disease  avg_glucose_level   bmi  stroke  \\\n",
       "0  67.0             0              1             228.69  36.6       1   \n",
       "2  80.0             0              1             105.92  32.5       1   \n",
       "3  49.0             0              0             171.23  34.4       1   \n",
       "4  79.0             1              0             174.12  24.0       1   \n",
       "5  81.0             0              0             186.21  29.0       1   \n",
       "\n",
       "   gender_Female  gender_Male  gender_Other  ever_married_No  \\\n",
       "0              0            1             0                0   \n",
       "2              0            1             0                0   \n",
       "3              1            0             0                0   \n",
       "4              1            0             0                0   \n",
       "5              0            1             0                0   \n",
       "\n",
       "   ever_married_Yes  smoking_status_Unknown  smoking_status_formerly smoked  \\\n",
       "0                 1                       0                               1   \n",
       "2                 1                       0                               0   \n",
       "3                 1                       0                               0   \n",
       "4                 1                       0                               0   \n",
       "5                 1                       0                               1   \n",
       "\n",
       "   smoking_status_never smoked  smoking_status_smokes  Residence_type_Rural  \\\n",
       "0                            0                      0                     0   \n",
       "2                            1                      0                     1   \n",
       "3                            0                      1                     0   \n",
       "4                            1                      0                     1   \n",
       "5                            0                      0                     0   \n",
       "\n",
       "   Residence_type_Urban  \n",
       "0                     1  \n",
       "2                     0  \n",
       "3                     1  \n",
       "4                     0  \n",
       "5                     1  "
      ]
     },
     "execution_count": 19,
     "metadata": {},
     "output_type": "execute_result"
    }
   ],
   "source": [
    "df.head()"
   ]
  },
  {
   "cell_type": "markdown",
   "id": "398e58f0",
   "metadata": {},
   "source": [
    "### Scale the data"
   ]
  },
  {
   "cell_type": "code",
   "execution_count": 26,
   "id": "d4bf0d32",
   "metadata": {},
   "outputs": [],
   "source": [
    "# Scale the data without scaling the encoded variables\n",
    "col_names = ['age', 'avg_glucose_level', 'bmi']\n",
    "features = df[col_names]\n",
    "ct = ColumnTransformer([\n",
    "        ('somename', StandardScaler(), ['age', 'avg_glucose_level', 'bmi'])\n",
    "    ], remainder='passthrough')\n",
    "\n",
    "scaled_feat=ct.fit_transform(features)"
   ]
  },
  {
   "cell_type": "code",
   "execution_count": 27,
   "id": "40105a58",
   "metadata": {},
   "outputs": [],
   "source": [
    "df_new=df.copy()\n",
    "df_new.loc[:,['age', 'avg_glucose_level', 'bmi']] = scaled_feat"
   ]
  },
  {
   "cell_type": "code",
   "execution_count": 29,
   "id": "9f99457f",
   "metadata": {},
   "outputs": [
    {
     "data": {
      "text/html": [
       "<div>\n",
       "<style scoped>\n",
       "    .dataframe tbody tr th:only-of-type {\n",
       "        vertical-align: middle;\n",
       "    }\n",
       "\n",
       "    .dataframe tbody tr th {\n",
       "        vertical-align: top;\n",
       "    }\n",
       "\n",
       "    .dataframe thead th {\n",
       "        text-align: right;\n",
       "    }\n",
       "</style>\n",
       "<table border=\"1\" class=\"dataframe\">\n",
       "  <thead>\n",
       "    <tr style=\"text-align: right;\">\n",
       "      <th></th>\n",
       "      <th>age</th>\n",
       "      <th>avg_glucose_level</th>\n",
       "      <th>bmi</th>\n",
       "    </tr>\n",
       "  </thead>\n",
       "  <tbody>\n",
       "    <tr>\n",
       "      <th>0</th>\n",
       "      <td>1.070138</td>\n",
       "      <td>2.777698</td>\n",
       "      <td>0.981345</td>\n",
       "    </tr>\n",
       "    <tr>\n",
       "      <th>2</th>\n",
       "      <td>1.646563</td>\n",
       "      <td>0.013842</td>\n",
       "      <td>0.459269</td>\n",
       "    </tr>\n",
       "    <tr>\n",
       "      <th>3</th>\n",
       "      <td>0.272012</td>\n",
       "      <td>1.484132</td>\n",
       "      <td>0.701207</td>\n",
       "    </tr>\n",
       "    <tr>\n",
       "      <th>4</th>\n",
       "      <td>1.602222</td>\n",
       "      <td>1.549193</td>\n",
       "      <td>-0.623083</td>\n",
       "    </tr>\n",
       "    <tr>\n",
       "      <th>5</th>\n",
       "      <td>1.690903</td>\n",
       "      <td>1.821368</td>\n",
       "      <td>0.013595</td>\n",
       "    </tr>\n",
       "  </tbody>\n",
       "</table>\n",
       "</div>"
      ],
      "text/plain": [
       "        age  avg_glucose_level       bmi\n",
       "0  1.070138           2.777698  0.981345\n",
       "2  1.646563           0.013842  0.459269\n",
       "3  0.272012           1.484132  0.701207\n",
       "4  1.602222           1.549193 -0.623083\n",
       "5  1.690903           1.821368  0.013595"
      ]
     },
     "execution_count": 29,
     "metadata": {},
     "output_type": "execute_result"
    }
   ],
   "source": [
    "df_new[['age', 'avg_glucose_level', 'bmi']].head()"
   ]
  },
  {
   "cell_type": "code",
   "execution_count": 31,
   "id": "dab9632a",
   "metadata": {},
   "outputs": [],
   "source": [
    "target_col = \"stroke\"\n",
    "x = df_new.drop(target_col, axis=1)\n",
    "y = df_new[target_col]"
   ]
  },
  {
   "cell_type": "code",
   "execution_count": 32,
   "id": "64869349",
   "metadata": {},
   "outputs": [
    {
     "data": {
      "text/html": [
       "<div>\n",
       "<style scoped>\n",
       "    .dataframe tbody tr th:only-of-type {\n",
       "        vertical-align: middle;\n",
       "    }\n",
       "\n",
       "    .dataframe tbody tr th {\n",
       "        vertical-align: top;\n",
       "    }\n",
       "\n",
       "    .dataframe thead th {\n",
       "        text-align: right;\n",
       "    }\n",
       "</style>\n",
       "<table border=\"1\" class=\"dataframe\">\n",
       "  <thead>\n",
       "    <tr style=\"text-align: right;\">\n",
       "      <th></th>\n",
       "      <th>age</th>\n",
       "      <th>hypertension</th>\n",
       "      <th>heart_disease</th>\n",
       "      <th>avg_glucose_level</th>\n",
       "      <th>bmi</th>\n",
       "      <th>gender_Female</th>\n",
       "      <th>gender_Male</th>\n",
       "      <th>gender_Other</th>\n",
       "      <th>ever_married_No</th>\n",
       "      <th>ever_married_Yes</th>\n",
       "      <th>smoking_status_Unknown</th>\n",
       "      <th>smoking_status_formerly smoked</th>\n",
       "      <th>smoking_status_never smoked</th>\n",
       "      <th>smoking_status_smokes</th>\n",
       "      <th>Residence_type_Rural</th>\n",
       "      <th>Residence_type_Urban</th>\n",
       "    </tr>\n",
       "  </thead>\n",
       "  <tbody>\n",
       "    <tr>\n",
       "      <th>0</th>\n",
       "      <td>1.070138</td>\n",
       "      <td>0</td>\n",
       "      <td>1</td>\n",
       "      <td>2.777698</td>\n",
       "      <td>0.981345</td>\n",
       "      <td>0</td>\n",
       "      <td>1</td>\n",
       "      <td>0</td>\n",
       "      <td>0</td>\n",
       "      <td>1</td>\n",
       "      <td>0</td>\n",
       "      <td>1</td>\n",
       "      <td>0</td>\n",
       "      <td>0</td>\n",
       "      <td>0</td>\n",
       "      <td>1</td>\n",
       "    </tr>\n",
       "    <tr>\n",
       "      <th>2</th>\n",
       "      <td>1.646563</td>\n",
       "      <td>0</td>\n",
       "      <td>1</td>\n",
       "      <td>0.013842</td>\n",
       "      <td>0.459269</td>\n",
       "      <td>0</td>\n",
       "      <td>1</td>\n",
       "      <td>0</td>\n",
       "      <td>0</td>\n",
       "      <td>1</td>\n",
       "      <td>0</td>\n",
       "      <td>0</td>\n",
       "      <td>1</td>\n",
       "      <td>0</td>\n",
       "      <td>1</td>\n",
       "      <td>0</td>\n",
       "    </tr>\n",
       "    <tr>\n",
       "      <th>3</th>\n",
       "      <td>0.272012</td>\n",
       "      <td>0</td>\n",
       "      <td>0</td>\n",
       "      <td>1.484132</td>\n",
       "      <td>0.701207</td>\n",
       "      <td>1</td>\n",
       "      <td>0</td>\n",
       "      <td>0</td>\n",
       "      <td>0</td>\n",
       "      <td>1</td>\n",
       "      <td>0</td>\n",
       "      <td>0</td>\n",
       "      <td>0</td>\n",
       "      <td>1</td>\n",
       "      <td>0</td>\n",
       "      <td>1</td>\n",
       "    </tr>\n",
       "    <tr>\n",
       "      <th>4</th>\n",
       "      <td>1.602222</td>\n",
       "      <td>1</td>\n",
       "      <td>0</td>\n",
       "      <td>1.549193</td>\n",
       "      <td>-0.623083</td>\n",
       "      <td>1</td>\n",
       "      <td>0</td>\n",
       "      <td>0</td>\n",
       "      <td>0</td>\n",
       "      <td>1</td>\n",
       "      <td>0</td>\n",
       "      <td>0</td>\n",
       "      <td>1</td>\n",
       "      <td>0</td>\n",
       "      <td>1</td>\n",
       "      <td>0</td>\n",
       "    </tr>\n",
       "    <tr>\n",
       "      <th>5</th>\n",
       "      <td>1.690903</td>\n",
       "      <td>0</td>\n",
       "      <td>0</td>\n",
       "      <td>1.821368</td>\n",
       "      <td>0.013595</td>\n",
       "      <td>0</td>\n",
       "      <td>1</td>\n",
       "      <td>0</td>\n",
       "      <td>0</td>\n",
       "      <td>1</td>\n",
       "      <td>0</td>\n",
       "      <td>1</td>\n",
       "      <td>0</td>\n",
       "      <td>0</td>\n",
       "      <td>0</td>\n",
       "      <td>1</td>\n",
       "    </tr>\n",
       "    <tr>\n",
       "      <th>...</th>\n",
       "      <td>...</td>\n",
       "      <td>...</td>\n",
       "      <td>...</td>\n",
       "      <td>...</td>\n",
       "      <td>...</td>\n",
       "      <td>...</td>\n",
       "      <td>...</td>\n",
       "      <td>...</td>\n",
       "      <td>...</td>\n",
       "      <td>...</td>\n",
       "      <td>...</td>\n",
       "      <td>...</td>\n",
       "      <td>...</td>\n",
       "      <td>...</td>\n",
       "      <td>...</td>\n",
       "      <td>...</td>\n",
       "    </tr>\n",
       "    <tr>\n",
       "      <th>5104</th>\n",
       "      <td>-1.324241</td>\n",
       "      <td>0</td>\n",
       "      <td>0</td>\n",
       "      <td>-0.050094</td>\n",
       "      <td>-1.310695</td>\n",
       "      <td>1</td>\n",
       "      <td>0</td>\n",
       "      <td>0</td>\n",
       "      <td>1</td>\n",
       "      <td>0</td>\n",
       "      <td>1</td>\n",
       "      <td>0</td>\n",
       "      <td>0</td>\n",
       "      <td>0</td>\n",
       "      <td>1</td>\n",
       "      <td>0</td>\n",
       "    </tr>\n",
       "    <tr>\n",
       "      <th>5106</th>\n",
       "      <td>1.690903</td>\n",
       "      <td>0</td>\n",
       "      <td>0</td>\n",
       "      <td>0.447882</td>\n",
       "      <td>1.414286</td>\n",
       "      <td>1</td>\n",
       "      <td>0</td>\n",
       "      <td>0</td>\n",
       "      <td>0</td>\n",
       "      <td>1</td>\n",
       "      <td>0</td>\n",
       "      <td>0</td>\n",
       "      <td>1</td>\n",
       "      <td>0</td>\n",
       "      <td>0</td>\n",
       "      <td>1</td>\n",
       "    </tr>\n",
       "    <tr>\n",
       "      <th>5107</th>\n",
       "      <td>-0.348753</td>\n",
       "      <td>0</td>\n",
       "      <td>0</td>\n",
       "      <td>-0.502369</td>\n",
       "      <td>0.217332</td>\n",
       "      <td>1</td>\n",
       "      <td>0</td>\n",
       "      <td>0</td>\n",
       "      <td>0</td>\n",
       "      <td>1</td>\n",
       "      <td>0</td>\n",
       "      <td>0</td>\n",
       "      <td>1</td>\n",
       "      <td>0</td>\n",
       "      <td>1</td>\n",
       "      <td>0</td>\n",
       "    </tr>\n",
       "    <tr>\n",
       "      <th>5108</th>\n",
       "      <td>0.360692</td>\n",
       "      <td>0</td>\n",
       "      <td>0</td>\n",
       "      <td>1.372920</td>\n",
       "      <td>-0.419346</td>\n",
       "      <td>0</td>\n",
       "      <td>1</td>\n",
       "      <td>0</td>\n",
       "      <td>0</td>\n",
       "      <td>1</td>\n",
       "      <td>0</td>\n",
       "      <td>1</td>\n",
       "      <td>0</td>\n",
       "      <td>0</td>\n",
       "      <td>1</td>\n",
       "      <td>0</td>\n",
       "    </tr>\n",
       "    <tr>\n",
       "      <th>5109</th>\n",
       "      <td>0.050310</td>\n",
       "      <td>0</td>\n",
       "      <td>0</td>\n",
       "      <td>-0.450816</td>\n",
       "      <td>-0.342945</td>\n",
       "      <td>1</td>\n",
       "      <td>0</td>\n",
       "      <td>0</td>\n",
       "      <td>0</td>\n",
       "      <td>1</td>\n",
       "      <td>1</td>\n",
       "      <td>0</td>\n",
       "      <td>0</td>\n",
       "      <td>0</td>\n",
       "      <td>0</td>\n",
       "      <td>1</td>\n",
       "    </tr>\n",
       "  </tbody>\n",
       "</table>\n",
       "<p>4909 rows × 16 columns</p>\n",
       "</div>"
      ],
      "text/plain": [
       "           age  hypertension  heart_disease  avg_glucose_level       bmi  \\\n",
       "0     1.070138             0              1           2.777698  0.981345   \n",
       "2     1.646563             0              1           0.013842  0.459269   \n",
       "3     0.272012             0              0           1.484132  0.701207   \n",
       "4     1.602222             1              0           1.549193 -0.623083   \n",
       "5     1.690903             0              0           1.821368  0.013595   \n",
       "...        ...           ...            ...                ...       ...   \n",
       "5104 -1.324241             0              0          -0.050094 -1.310695   \n",
       "5106  1.690903             0              0           0.447882  1.414286   \n",
       "5107 -0.348753             0              0          -0.502369  0.217332   \n",
       "5108  0.360692             0              0           1.372920 -0.419346   \n",
       "5109  0.050310             0              0          -0.450816 -0.342945   \n",
       "\n",
       "      gender_Female  gender_Male  gender_Other  ever_married_No  \\\n",
       "0                 0            1             0                0   \n",
       "2                 0            1             0                0   \n",
       "3                 1            0             0                0   \n",
       "4                 1            0             0                0   \n",
       "5                 0            1             0                0   \n",
       "...             ...          ...           ...              ...   \n",
       "5104              1            0             0                1   \n",
       "5106              1            0             0                0   \n",
       "5107              1            0             0                0   \n",
       "5108              0            1             0                0   \n",
       "5109              1            0             0                0   \n",
       "\n",
       "      ever_married_Yes  smoking_status_Unknown  \\\n",
       "0                    1                       0   \n",
       "2                    1                       0   \n",
       "3                    1                       0   \n",
       "4                    1                       0   \n",
       "5                    1                       0   \n",
       "...                ...                     ...   \n",
       "5104                 0                       1   \n",
       "5106                 1                       0   \n",
       "5107                 1                       0   \n",
       "5108                 1                       0   \n",
       "5109                 1                       1   \n",
       "\n",
       "      smoking_status_formerly smoked  smoking_status_never smoked  \\\n",
       "0                                  1                            0   \n",
       "2                                  0                            1   \n",
       "3                                  0                            0   \n",
       "4                                  0                            1   \n",
       "5                                  1                            0   \n",
       "...                              ...                          ...   \n",
       "5104                               0                            0   \n",
       "5106                               0                            1   \n",
       "5107                               0                            1   \n",
       "5108                               1                            0   \n",
       "5109                               0                            0   \n",
       "\n",
       "      smoking_status_smokes  Residence_type_Rural  Residence_type_Urban  \n",
       "0                         0                     0                     1  \n",
       "2                         0                     1                     0  \n",
       "3                         1                     0                     1  \n",
       "4                         0                     1                     0  \n",
       "5                         0                     0                     1  \n",
       "...                     ...                   ...                   ...  \n",
       "5104                      0                     1                     0  \n",
       "5106                      0                     0                     1  \n",
       "5107                      0                     1                     0  \n",
       "5108                      0                     1                     0  \n",
       "5109                      0                     0                     1  \n",
       "\n",
       "[4909 rows x 16 columns]"
      ]
     },
     "execution_count": 32,
     "metadata": {},
     "output_type": "execute_result"
    }
   ],
   "source": [
    "x"
   ]
  },
  {
   "cell_type": "markdown",
   "id": "f66280d0",
   "metadata": {},
   "source": [
    "### Train Test Split"
   ]
  },
  {
   "cell_type": "code",
   "execution_count": 33,
   "id": "2e7f3698",
   "metadata": {},
   "outputs": [],
   "source": [
    "x_train, x_test, y_train, y_test = train_test_split(x, y, test_size = 0.20, random_state = 0)"
   ]
  },
  {
   "cell_type": "code",
   "execution_count": 34,
   "id": "388d6d8e",
   "metadata": {},
   "outputs": [
    {
     "data": {
      "text/plain": [
       "age                               0.998615\n",
       "hypertension                      0.284595\n",
       "heart_disease                     0.215670\n",
       "avg_glucose_level                 0.998529\n",
       "bmi                               1.002441\n",
       "gender_Female                     0.491705\n",
       "gender_Male                       0.491658\n",
       "gender_Other                      0.015958\n",
       "ever_married_No                   0.478258\n",
       "ever_married_Yes                  0.478258\n",
       "smoking_status_Unknown            0.460170\n",
       "smoking_status_formerly smoked    0.374425\n",
       "smoking_status_never smoked       0.486116\n",
       "smoking_status_smokes             0.351524\n",
       "Residence_type_Rural              0.500048\n",
       "Residence_type_Urban              0.500048\n",
       "dtype: float64"
      ]
     },
     "execution_count": 34,
     "metadata": {},
     "output_type": "execute_result"
    }
   ],
   "source": [
    "x_train.std(0)"
   ]
  },
  {
   "cell_type": "code",
   "execution_count": 35,
   "id": "4822be94",
   "metadata": {},
   "outputs": [
    {
     "data": {
      "text/plain": [
       "(3927, 16)"
      ]
     },
     "execution_count": 35,
     "metadata": {},
     "output_type": "execute_result"
    }
   ],
   "source": [
    "x_train.shape\n",
    "# The 16 columns shows that the encoding worked since we started with 9 columns"
   ]
  },
  {
   "cell_type": "code",
   "execution_count": 36,
   "id": "3a1c08d2",
   "metadata": {},
   "outputs": [
    {
     "data": {
      "text/plain": [
       "(3927,)"
      ]
     },
     "execution_count": 36,
     "metadata": {},
     "output_type": "execute_result"
    }
   ],
   "source": [
    "y_train.shape"
   ]
  },
  {
   "cell_type": "markdown",
   "id": "938e328d",
   "metadata": {},
   "source": [
    "### Logistic Regression"
   ]
  },
  {
   "cell_type": "code",
   "execution_count": 37,
   "id": "e071dbd3",
   "metadata": {},
   "outputs": [
    {
     "name": "stdout",
     "output_type": "stream",
     "text": [
      "Logistic AUC: 0.502\n"
     ]
    }
   ],
   "source": [
    "# logisitic model\n",
    "lr = LogisticRegression(max_iter=800)\n",
    "y_lr =cross_val_predict(lr,x , y, cv=None)\n",
    "print('Logistic AUC: {:.3f}'.format(roc_auc_score(y, y_lr)))"
   ]
  },
  {
   "cell_type": "markdown",
   "id": "21f5eb4b",
   "metadata": {},
   "source": [
    "### Decision Tree"
   ]
  },
  {
   "cell_type": "code",
   "execution_count": 40,
   "id": "033dc4a0",
   "metadata": {
    "scrolled": true
   },
   "outputs": [
    {
     "name": "stdout",
     "output_type": "stream",
     "text": [
      "Tree AUC: 0.513\n"
     ]
    }
   ],
   "source": [
    "# decision tree model\n",
    "tree = DecisionTreeClassifier(max_depth=8)\n",
    "y_tree = cross_val_predict(tree, x, y, cv=None, groups=y)\n",
    "print('Tree AUC: {:.3f}'.format(roc_auc_score(y, y_tree)))\n"
   ]
  },
  {
   "cell_type": "markdown",
   "id": "8d9b4744",
   "metadata": {},
   "source": [
    "### Random Forest"
   ]
  },
  {
   "cell_type": "code",
   "execution_count": 41,
   "id": "bb4c3221",
   "metadata": {},
   "outputs": [
    {
     "name": "stdout",
     "output_type": "stream",
     "text": [
      "RF AUC: 0.502\n"
     ]
    }
   ],
   "source": [
    "# Random Forest\n",
    "rf = RandomForestClassifier(n_estimators=50, max_depth=8)\n",
    "y_rf = cross_val_predict(rf, x, y, cv=None, groups=y) ## **randomly shuffle output (may be)\n",
    "print('RF AUC: {:.3f}'.format(roc_auc_score(y, y_rf)))"
   ]
  },
  {
   "cell_type": "code",
   "execution_count": 42,
   "id": "3bd79294",
   "metadata": {},
   "outputs": [
    {
     "name": "stdout",
     "output_type": "stream",
     "text": [
      "XGB AUC: 0.510\n"
     ]
    }
   ],
   "source": [
    "# xgboost (boosting)\n",
    "xgb = XGBClassifier(n_estimators=15, max_depth=20, eval_metric ='logloss', use_label_encoder=False)\n",
    "y_xgb = cross_val_predict(xgb, x, y, cv=None, groups=y)\n",
    "print('XGB AUC: {:.3f}'.format(roc_auc_score(y, y_xgb)))"
   ]
  },
  {
   "cell_type": "markdown",
   "id": "f5c45dbd",
   "metadata": {},
   "source": [
    "### All of these models performed poorly but this is a imbalanced dataset. We will use SMOTE."
   ]
  },
  {
   "cell_type": "markdown",
   "id": "90a405ca",
   "metadata": {},
   "source": [
    "## SMOTE"
   ]
  },
  {
   "cell_type": "code",
   "execution_count": 115,
   "id": "c35f427d",
   "metadata": {},
   "outputs": [],
   "source": [
    "from imblearn.over_sampling import SMOTE"
   ]
  },
  {
   "cell_type": "code",
   "execution_count": 135,
   "id": "a8aab875",
   "metadata": {},
   "outputs": [
    {
     "data": {
      "text/html": [
       "<div>\n",
       "<style scoped>\n",
       "    .dataframe tbody tr th:only-of-type {\n",
       "        vertical-align: middle;\n",
       "    }\n",
       "\n",
       "    .dataframe tbody tr th {\n",
       "        vertical-align: top;\n",
       "    }\n",
       "\n",
       "    .dataframe thead th {\n",
       "        text-align: right;\n",
       "    }\n",
       "</style>\n",
       "<table border=\"1\" class=\"dataframe\">\n",
       "  <thead>\n",
       "    <tr style=\"text-align: right;\">\n",
       "      <th></th>\n",
       "      <th>age</th>\n",
       "      <th>hypertension</th>\n",
       "      <th>heart_disease</th>\n",
       "      <th>avg_glucose_level</th>\n",
       "      <th>bmi</th>\n",
       "      <th>gender_Female</th>\n",
       "      <th>gender_Male</th>\n",
       "      <th>gender_Other</th>\n",
       "      <th>ever_married_No</th>\n",
       "      <th>ever_married_Yes</th>\n",
       "      <th>smoking_status_Unknown</th>\n",
       "      <th>smoking_status_formerly smoked</th>\n",
       "      <th>smoking_status_never smoked</th>\n",
       "      <th>smoking_status_smokes</th>\n",
       "      <th>Residence_type_Rural</th>\n",
       "      <th>Residence_type_Urban</th>\n",
       "    </tr>\n",
       "  </thead>\n",
       "  <tbody>\n",
       "    <tr>\n",
       "      <th>0</th>\n",
       "      <td>-0.836497</td>\n",
       "      <td>0</td>\n",
       "      <td>0</td>\n",
       "      <td>-0.716238</td>\n",
       "      <td>-0.686751</td>\n",
       "      <td>1</td>\n",
       "      <td>0</td>\n",
       "      <td>0</td>\n",
       "      <td>1</td>\n",
       "      <td>0</td>\n",
       "      <td>0</td>\n",
       "      <td>0</td>\n",
       "      <td>1</td>\n",
       "      <td>0</td>\n",
       "      <td>0</td>\n",
       "      <td>1</td>\n",
       "    </tr>\n",
       "    <tr>\n",
       "      <th>1</th>\n",
       "      <td>-0.747817</td>\n",
       "      <td>0</td>\n",
       "      <td>0</td>\n",
       "      <td>-0.360766</td>\n",
       "      <td>-0.915955</td>\n",
       "      <td>1</td>\n",
       "      <td>0</td>\n",
       "      <td>0</td>\n",
       "      <td>1</td>\n",
       "      <td>0</td>\n",
       "      <td>0</td>\n",
       "      <td>0</td>\n",
       "      <td>0</td>\n",
       "      <td>1</td>\n",
       "      <td>0</td>\n",
       "      <td>1</td>\n",
       "    </tr>\n",
       "    <tr>\n",
       "      <th>2</th>\n",
       "      <td>-0.925178</td>\n",
       "      <td>0</td>\n",
       "      <td>0</td>\n",
       "      <td>-0.716013</td>\n",
       "      <td>1.579822</td>\n",
       "      <td>1</td>\n",
       "      <td>0</td>\n",
       "      <td>0</td>\n",
       "      <td>1</td>\n",
       "      <td>0</td>\n",
       "      <td>0</td>\n",
       "      <td>0</td>\n",
       "      <td>0</td>\n",
       "      <td>1</td>\n",
       "      <td>0</td>\n",
       "      <td>1</td>\n",
       "    </tr>\n",
       "    <tr>\n",
       "      <th>3</th>\n",
       "      <td>1.557882</td>\n",
       "      <td>0</td>\n",
       "      <td>0</td>\n",
       "      <td>-0.645323</td>\n",
       "      <td>0.726674</td>\n",
       "      <td>1</td>\n",
       "      <td>0</td>\n",
       "      <td>0</td>\n",
       "      <td>1</td>\n",
       "      <td>0</td>\n",
       "      <td>0</td>\n",
       "      <td>0</td>\n",
       "      <td>1</td>\n",
       "      <td>0</td>\n",
       "      <td>1</td>\n",
       "      <td>0</td>\n",
       "    </tr>\n",
       "    <tr>\n",
       "      <th>4</th>\n",
       "      <td>0.981457</td>\n",
       "      <td>0</td>\n",
       "      <td>0</td>\n",
       "      <td>-0.376750</td>\n",
       "      <td>0.013595</td>\n",
       "      <td>0</td>\n",
       "      <td>1</td>\n",
       "      <td>0</td>\n",
       "      <td>0</td>\n",
       "      <td>1</td>\n",
       "      <td>0</td>\n",
       "      <td>0</td>\n",
       "      <td>0</td>\n",
       "      <td>1</td>\n",
       "      <td>0</td>\n",
       "      <td>1</td>\n",
       "    </tr>\n",
       "  </tbody>\n",
       "</table>\n",
       "</div>"
      ],
      "text/plain": [
       "        age  hypertension  heart_disease  avg_glucose_level       bmi  \\\n",
       "0 -0.836497             0              0          -0.716238 -0.686751   \n",
       "1 -0.747817             0              0          -0.360766 -0.915955   \n",
       "2 -0.925178             0              0          -0.716013  1.579822   \n",
       "3  1.557882             0              0          -0.645323  0.726674   \n",
       "4  0.981457             0              0          -0.376750  0.013595   \n",
       "\n",
       "   gender_Female  gender_Male  gender_Other  ever_married_No  \\\n",
       "0              1            0             0                1   \n",
       "1              1            0             0                1   \n",
       "2              1            0             0                1   \n",
       "3              1            0             0                1   \n",
       "4              0            1             0                0   \n",
       "\n",
       "   ever_married_Yes  smoking_status_Unknown  smoking_status_formerly smoked  \\\n",
       "0                 0                       0                               0   \n",
       "1                 0                       0                               0   \n",
       "2                 0                       0                               0   \n",
       "3                 0                       0                               0   \n",
       "4                 1                       0                               0   \n",
       "\n",
       "   smoking_status_never smoked  smoking_status_smokes  Residence_type_Rural  \\\n",
       "0                            1                      0                     0   \n",
       "1                            0                      1                     0   \n",
       "2                            0                      1                     0   \n",
       "3                            1                      0                     1   \n",
       "4                            0                      1                     0   \n",
       "\n",
       "   Residence_type_Urban  \n",
       "0                     1  \n",
       "1                     1  \n",
       "2                     1  \n",
       "3                     0  \n",
       "4                     1  "
      ]
     },
     "execution_count": 135,
     "metadata": {},
     "output_type": "execute_result"
    }
   ],
   "source": [
    "x_train_over.head()"
   ]
  },
  {
   "cell_type": "markdown",
   "id": "20efb16a",
   "metadata": {},
   "source": [
    "### Oversampling Technique"
   ]
  },
  {
   "cell_type": "code",
   "execution_count": 116,
   "id": "b41ae528",
   "metadata": {},
   "outputs": [],
   "source": [
    "oversample=SMOTE()\n",
    "x_train_over,y_train_over=oversample.fit_resample(x_train,y_train)"
   ]
  },
  {
   "cell_type": "code",
   "execution_count": 117,
   "id": "1681ad0b",
   "metadata": {},
   "outputs": [
    {
     "data": {
      "text/plain": [
       "0    3760\n",
       "1     167\n",
       "Name: stroke, dtype: int64"
      ]
     },
     "execution_count": 117,
     "metadata": {},
     "output_type": "execute_result"
    }
   ],
   "source": [
    "y_train.value_counts()"
   ]
  },
  {
   "cell_type": "code",
   "execution_count": 118,
   "id": "00213aff",
   "metadata": {},
   "outputs": [
    {
     "data": {
      "text/plain": [
       "0    3760\n",
       "1    3760\n",
       "Name: stroke, dtype: int64"
      ]
     },
     "execution_count": 118,
     "metadata": {},
     "output_type": "execute_result"
    }
   ],
   "source": [
    "y_train_over.value_counts()"
   ]
  },
  {
   "cell_type": "markdown",
   "id": "cca2206e",
   "metadata": {},
   "source": [
    "#### Oversampling is preferred over undersampling since there are so few positive stroke values and you want to retain all the information."
   ]
  },
  {
   "cell_type": "code",
   "execution_count": 127,
   "id": "9f2eb15b",
   "metadata": {},
   "outputs": [
    {
     "data": {
      "text/plain": [
       "RandomForestClassifier(max_depth=10, random_state=0)"
      ]
     },
     "execution_count": 127,
     "metadata": {},
     "output_type": "execute_result"
    }
   ],
   "source": [
    "rf = RandomForestClassifier(n_estimators=100, max_depth=10,random_state=0)\n",
    "rf.fit(x_train_over,y_train_over)"
   ]
  },
  {
   "cell_type": "code",
   "execution_count": 128,
   "id": "6b6f1e01",
   "metadata": {},
   "outputs": [],
   "source": [
    "y_rf2=rf.predict(x_test)"
   ]
  },
  {
   "cell_type": "code",
   "execution_count": 129,
   "id": "3c104962",
   "metadata": {},
   "outputs": [
    {
     "data": {
      "text/plain": [
       "array([[802, 138],\n",
       "       [ 22,  20]], dtype=int64)"
      ]
     },
     "execution_count": 129,
     "metadata": {},
     "output_type": "execute_result"
    }
   ],
   "source": [
    "from sklearn.metrics import confusion_matrix\n",
    "confusion_matrix(y_test,y_rf2)"
   ]
  },
  {
   "cell_type": "code",
   "execution_count": 130,
   "id": "d804cfcb",
   "metadata": {},
   "outputs": [
    {
     "data": {
      "text/plain": [
       "0.6646909827760892"
      ]
     },
     "execution_count": 130,
     "metadata": {},
     "output_type": "execute_result"
    }
   ],
   "source": [
    "roc_auc_score(y_test, y_rf2)"
   ]
  },
  {
   "cell_type": "markdown",
   "id": "b4b0a25a",
   "metadata": {},
   "source": [
    "### Lets try to improve the model using GridSearchCV"
   ]
  },
  {
   "cell_type": "code",
   "execution_count": 136,
   "id": "d54385e3",
   "metadata": {},
   "outputs": [],
   "source": [
    "from sklearn.model_selection import GridSearchCV"
   ]
  },
  {
   "cell_type": "code",
   "execution_count": 137,
   "id": "74ad9869",
   "metadata": {},
   "outputs": [
    {
     "data": {
      "text/plain": [
       "GridSearchCV(cv=3, estimator=RandomForestClassifier(random_state=0),\n",
       "             param_grid={'max_depth': [2, 5, 10, 50, 100, 200],\n",
       "                         'min_samples_split': [5, 10, 50, 100],\n",
       "                         'n_estimators': [20, 50, 100, 200, 500]})"
      ]
     },
     "execution_count": 137,
     "metadata": {},
     "output_type": "execute_result"
    }
   ],
   "source": [
    "rf = RandomForestClassifier(random_state=0)\n",
    "params={'n_estimators':[20,50,100,200,500],'max_depth':[2,5,10,50,100,200],'min_samples_split':[5,10,50,100]}\n",
    "grid_search=GridSearchCV(rf,params,cv=3)\n",
    "\n",
    "grid_search.fit(x_train_over,y_train_over)"
   ]
  },
  {
   "cell_type": "code",
   "execution_count": 138,
   "id": "a335abfc",
   "metadata": {},
   "outputs": [
    {
     "data": {
      "text/plain": [
       "{'max_depth': 50, 'min_samples_split': 5, 'n_estimators': 500}"
      ]
     },
     "execution_count": 138,
     "metadata": {},
     "output_type": "execute_result"
    }
   ],
   "source": [
    "grid_search.best_params_"
   ]
  },
  {
   "cell_type": "code",
   "execution_count": 154,
   "id": "961a0dd2",
   "metadata": {},
   "outputs": [],
   "source": [
    "model=RandomForestClassifier(n_estimators=500, max_depth=50,min_samples_split=5,random_state=0,class_weight={0:0.5,1:0.2})"
   ]
  },
  {
   "cell_type": "code",
   "execution_count": 155,
   "id": "d123339a",
   "metadata": {},
   "outputs": [
    {
     "data": {
      "text/plain": [
       "RandomForestClassifier(class_weight={0: 0.5, 1: 0.2}, max_depth=50,\n",
       "                       min_samples_split=5, n_estimators=500, random_state=0)"
      ]
     },
     "execution_count": 155,
     "metadata": {},
     "output_type": "execute_result"
    }
   ],
   "source": [
    "model.fit(x_train_over,y_train_over)"
   ]
  },
  {
   "cell_type": "code",
   "execution_count": 156,
   "id": "7c2681df",
   "metadata": {},
   "outputs": [],
   "source": [
    "y_pred3=model.predict(x_test)"
   ]
  },
  {
   "cell_type": "code",
   "execution_count": 157,
   "id": "36da71c1",
   "metadata": {},
   "outputs": [
    {
     "data": {
      "text/plain": [
       "0.5649189463019251"
      ]
     },
     "execution_count": 157,
     "metadata": {},
     "output_type": "execute_result"
    }
   ],
   "source": [
    "roc_auc_score(y_test, y_pred3)"
   ]
  },
  {
   "cell_type": "code",
   "execution_count": 158,
   "id": "3943d4a6",
   "metadata": {},
   "outputs": [
    {
     "data": {
      "text/plain": [
       "array([[883,  57],\n",
       "       [ 34,   8]], dtype=int64)"
      ]
     },
     "execution_count": 158,
     "metadata": {},
     "output_type": "execute_result"
    }
   ],
   "source": [
    "confusion_matrix(y_test,y_pred3)"
   ]
  },
  {
   "cell_type": "markdown",
   "id": "cdb0a9ac",
   "metadata": {},
   "source": [
    "#### Our results show that we have less true positives and more false negatives, however we have much less false positives which is a good thing. Lets use a Neural Network for classification."
   ]
  },
  {
   "cell_type": "markdown",
   "id": "19c22dec",
   "metadata": {},
   "source": [
    "## Neural Network"
   ]
  },
  {
   "cell_type": "code",
   "execution_count": 159,
   "id": "d0b2ac40",
   "metadata": {},
   "outputs": [],
   "source": [
    "from tensorflow.keras.models import Sequential\n",
    "from tensorflow.keras.layers import Dense"
   ]
  },
  {
   "cell_type": "code",
   "execution_count": 160,
   "id": "b2840c50",
   "metadata": {},
   "outputs": [
    {
     "data": {
      "text/plain": [
       "(3927, 16)"
      ]
     },
     "execution_count": 160,
     "metadata": {},
     "output_type": "execute_result"
    }
   ],
   "source": [
    "x_train.shape"
   ]
  },
  {
   "cell_type": "markdown",
   "id": "d75b940e",
   "metadata": {},
   "source": [
    "#### Building the ANN"
   ]
  },
  {
   "cell_type": "code",
   "execution_count": 239,
   "id": "96e32646",
   "metadata": {},
   "outputs": [],
   "source": [
    "model=Sequential()\n",
    "model.add(Dense(32,input_dim=x_train.shape[1],activation='relu'))\n",
    "model.add(Dense(16,activation='relu'))\n",
    "model.add(Dense(8,activation='relu'))\n",
    "model.add(Dense(4,activation='relu'))\n",
    "model.add(Dense(1,activation='sigmoid'))"
   ]
  },
  {
   "cell_type": "code",
   "execution_count": 240,
   "id": "e36f1788",
   "metadata": {},
   "outputs": [],
   "source": [
    "model.compile(optimizer='adam',loss='binary_crossentropy',metrics=['AUC'])"
   ]
  },
  {
   "cell_type": "markdown",
   "id": "3761bc3f",
   "metadata": {},
   "source": [
    "#### Fitting the ANN"
   ]
  },
  {
   "cell_type": "code",
   "execution_count": 241,
   "id": "d2fddaf0",
   "metadata": {},
   "outputs": [
    {
     "name": "stdout",
     "output_type": "stream",
     "text": [
      "Epoch 1/10\n",
      "123/123 [==============================] - 1s 2ms/step - loss: 0.2355 - auc: 0.5222 - val_loss: 0.1604 - val_auc: 0.7592\n",
      "Epoch 2/10\n",
      "123/123 [==============================] - 0s 900us/step - loss: 0.1549 - auc: 0.7770 - val_loss: 0.1457 - val_auc: 0.8309\n",
      "Epoch 3/10\n",
      "123/123 [==============================] - 0s 959us/step - loss: 0.1441 - auc: 0.8314 - val_loss: 0.1419 - val_auc: 0.8440\n",
      "Epoch 4/10\n",
      "123/123 [==============================] - 0s 946us/step - loss: 0.1410 - auc: 0.8462 - val_loss: 0.1416 - val_auc: 0.8436\n",
      "Epoch 5/10\n",
      "123/123 [==============================] - 0s 1ms/step - loss: 0.1393 - auc: 0.8504 - val_loss: 0.1423 - val_auc: 0.8438\n",
      "Epoch 6/10\n",
      "123/123 [==============================] - 0s 921us/step - loss: 0.1378 - auc: 0.8554 - val_loss: 0.1469 - val_auc: 0.8460\n",
      "Epoch 7/10\n",
      "123/123 [==============================] - 0s 964us/step - loss: 0.1372 - auc: 0.8568 - val_loss: 0.1417 - val_auc: 0.8446\n",
      "Epoch 8/10\n",
      "123/123 [==============================] - 0s 927us/step - loss: 0.1373 - auc: 0.8589 - val_loss: 0.1423 - val_auc: 0.8421\n",
      "Epoch 9/10\n",
      "123/123 [==============================] - 0s 953us/step - loss: 0.1363 - auc: 0.8610 - val_loss: 0.1409 - val_auc: 0.8485\n",
      "Epoch 10/10\n",
      "123/123 [==============================] - 0s 949us/step - loss: 0.1363 - auc: 0.8583 - val_loss: 0.1419 - val_auc: 0.8414\n"
     ]
    },
    {
     "data": {
      "text/plain": [
       "<tensorflow.python.keras.callbacks.History at 0x1be47327af0>"
      ]
     },
     "execution_count": 241,
     "metadata": {},
     "output_type": "execute_result"
    }
   ],
   "source": [
    "model.fit(x_train,y_train,validation_data=(x_test,y_test),epochs=10)"
   ]
  },
  {
   "cell_type": "code",
   "execution_count": 260,
   "id": "4f7b1433",
   "metadata": {},
   "outputs": [],
   "source": [
    "y_pred_NN=(model.predict(x_test)>0.10).astype(int).ravel()"
   ]
  },
  {
   "cell_type": "markdown",
   "id": "865abf5e",
   "metadata": {},
   "source": [
    "#### Confusion Matrix"
   ]
  },
  {
   "cell_type": "code",
   "execution_count": 261,
   "id": "a877999a",
   "metadata": {},
   "outputs": [
    {
     "data": {
      "text/plain": [
       "array([[824, 116],\n",
       "       [ 18,  24]], dtype=int64)"
      ]
     },
     "execution_count": 261,
     "metadata": {},
     "output_type": "execute_result"
    }
   ],
   "source": [
    "confusion_matrix(y_test,y_pred_NN)"
   ]
  },
  {
   "cell_type": "code",
   "execution_count": 262,
   "id": "c16318af",
   "metadata": {},
   "outputs": [
    {
     "data": {
      "text/plain": [
       "0.7240121580547112"
      ]
     },
     "execution_count": 262,
     "metadata": {},
     "output_type": "execute_result"
    }
   ],
   "source": [
    "roc_auc_score(y_test, y_pred_NN)"
   ]
  },
  {
   "cell_type": "code",
   "execution_count": 263,
   "id": "f7aa295c",
   "metadata": {},
   "outputs": [],
   "source": [
    "## FN are more critical --> minimize this value as much as possible\n",
    "## FP"
   ]
  },
  {
   "cell_type": "code",
   "execution_count": 264,
   "id": "14d5ea83",
   "metadata": {},
   "outputs": [
    {
     "name": "stdout",
     "output_type": "stream",
     "text": [
      "              precision    recall  f1-score   support\n",
      "\n",
      "           0       0.98      0.88      0.92       940\n",
      "           1       0.17      0.57      0.26        42\n",
      "\n",
      "    accuracy                           0.86       982\n",
      "   macro avg       0.58      0.72      0.59       982\n",
      "weighted avg       0.94      0.86      0.90       982\n",
      "\n"
     ]
    }
   ],
   "source": [
    "from sklearn.metrics import classification_report\n",
    "print(classification_report(y_test, y_pred_NN))"
   ]
  },
  {
   "cell_type": "markdown",
   "id": "133a2c19",
   "metadata": {},
   "source": [
    "#### Although this model had the highest accuracy at 86%, its precision was only 17% for positive stroke patients, but did have a reasonable Recall. This is what makes a model difficult for imbalanced data."
   ]
  },
  {
   "cell_type": "markdown",
   "id": "e7340d8f",
   "metadata": {},
   "source": [
    "### CVA risk, aka Stroke risk is higher in the elderly population (60 and over) compared to the adults in the 30-60 years old range. This is due to atherosclerosis of the arteries that occurs over decades and the buidup of choleseterol leads to plaques on the vessel walls that can break off and result in an ischemic stroke. An hemmorhagic stroke occurs when there is bleeding in the brain and that has a higher incidence in the elderly since they are more prone to falls and usually take aspirin or another type of blood thinner to decrease their risk of ischemic stroke."
   ]
  }
 ],
 "metadata": {
  "kernelspec": {
   "display_name": "Python 3 (ipykernel)",
   "language": "python",
   "name": "python3"
  },
  "language_info": {
   "codemirror_mode": {
    "name": "ipython",
    "version": 3
   },
   "file_extension": ".py",
   "mimetype": "text/x-python",
   "name": "python",
   "nbconvert_exporter": "python",
   "pygments_lexer": "ipython3",
   "version": "3.8.11"
  }
 },
 "nbformat": 4,
 "nbformat_minor": 5
}
